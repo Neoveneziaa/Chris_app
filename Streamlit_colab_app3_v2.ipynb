{
 "cells": [
  {
   "cell_type": "markdown",
   "metadata": {
    "colab_type": "text",
    "id": "view-in-github"
   },
   "source": [
    "<a href=\"https://colab.research.google.com/github/prakashsukhwal/DSSI_app3/blob/main/Streamlit_colab_app3_v2.ipynb\" target=\"_parent\"><img src=\"https://colab.research.google.com/assets/colab-badge.svg\" alt=\"Open In Colab\"/></a>"
   ]
  },
  {
   "cell_type": "code",
   "execution_count": 1,
   "metadata": {
    "colab": {
     "base_uri": "https://localhost:8080/",
     "height": 1000
    },
    "id": "xSrMTtRUNvGu",
    "outputId": "0125717a-6709-42c8-fce1-f42deadcf8ac"
   },
   "outputs": [],
   "source": [
    "# !pip install streamlit"
   ]
  },
  {
   "cell_type": "code",
   "execution_count": 11,
   "metadata": {
    "colab": {
     "base_uri": "https://localhost:8080/"
    },
    "id": "g5A9uDsk-Iem",
    "outputId": "951e7a5c-19fe-4095-a1b1-06b6992b8894"
   },
   "outputs": [
    {
     "name": "stdout",
     "output_type": "stream",
     "text": [
      "Mounted at /content/gdrive\n"
     ]
    }
   ],
   "source": [
    "from google.colab import drive\n",
    "\n",
    "drive.mount('/content/gdrive')"
   ]
  },
  {
   "cell_type": "code",
   "execution_count": 12,
   "metadata": {
    "colab": {
     "base_uri": "https://localhost:8080/"
    },
    "id": "tk60Kn1ON4FF",
    "outputId": "e15005e4-64cb-4b29-b8e2-fdc6d5050607"
   },
   "outputs": [
    {
     "name": "stdout",
     "output_type": "stream",
     "text": [
      "Overwriting app3_v2.py\n"
     ]
    }
   ],
   "source": [
    "# Author: Prakash Sukhwal\n",
    "# version: 2.0\n",
    "# Aug 2021\n",
    "%%writefile app3_v2.py\n",
    "\n",
    "import streamlit as st\n",
    "# other libs\n",
    "import numpy as np\n",
    "import pandas as pd\n",
    "import pickle\n",
    "# import pyautogui # for reset button: pip install pyautogui\n",
    "\n",
    "# load the model.pkl\n",
    "#/content/drive/MyDrive/Solution Implementation Course/model.pkl\n",
    "path = r'/content/model.pkl' # just drag and drop the model file in your google drive\n",
    "with open(path, \"rb\") as f:\n",
    "\tmodel = pickle.load(f)\n",
    "\n",
    "# Streamlit provides a caching mechanism that allows your app to stay performant \n",
    "# even when loading data from the web, manipulating large datasets, \n",
    "# or performing expensive computations. This is done with the @st.cache decorator.\n",
    "@st.cache()\n",
    "\n",
    "def prediction(int_rate, emp_length, annual_inc, delinq_2yrs, fico_range_high,revol_bal, open_acc):\n",
    "\t# Making predictions\n",
    "\tprediction = model.predict([[int_rate, emp_length, annual_inc, delinq_2yrs,fico_range_high,revol_bal, open_acc]])\n",
    "\tif prediction == 0:\n",
    "\t\tpred = 'Rejected'\n",
    "\telse:\n",
    "\t\tpred = 'Approved'\n",
    "\treturn pred\n",
    "\n",
    "\n",
    "# putting the app related codes in main()\n",
    "def main():\n",
    "\t# -- Set page config\n",
    "\tapptitle = 'DSSI'\n",
    "\tst.set_page_config(page_title=apptitle, page_icon='random', \n",
    "\t\tlayout= 'wide', initial_sidebar_state=\"expanded\")\n",
    "\t# random icons in the browser tab\n",
    "\n",
    "\t# give a title to your app\n",
    "\tst.title('Solution Implementation')\n",
    "\t#front end elements of the web page \n",
    "\t# pick colors from: https://www.w3schools.com/tags/ref_colornames.asp\n",
    "\thtml_temp = \"\"\" <div style =\"background-color:AntiqueWhite;padding:15px\"> \n",
    "       <h1 style =\"color:black;text-align:center;\">A loan application assessment app</h1> \n",
    "       </div> <br/>\"\"\"\n",
    "\n",
    "    #display the front end aspect\n",
    "\tst.markdown(html_temp, unsafe_allow_html = True)\n",
    "\t# let us make infrastructure to provide inputs\n",
    "\t# we will add the inputs to side bar\n",
    "\tst.sidebar.info('Provide input using the panel')\n",
    "\tst.info('Click Assess button below')\n",
    "\n",
    "\tint_rate = st.sidebar.slider('int_rate', 5, 25, 10)\n",
    "\tst.write('input int_rate', int_rate)\n",
    "\temp_length = st.sidebar.slider('emp_length', 0, 40, 5)\n",
    "\tst.write('input emp_length', emp_length)\n",
    "\tannual_inc = st.sidebar.slider('annual_inc in 1000s', 40, 100, 60)\n",
    "\tst.write('input annual_inc', annual_inc*1000)\n",
    "\tdelinq_2yrs = st.sidebar.slider('delinq_2yrs', 0, 20, 0)\n",
    "\tst.write('input delinq_2yrs', delinq_2yrs)\n",
    "\tfico_range_high = st.sidebar.slider('fico_range_high', 630, 900, 700)\n",
    "\tst.write('input fico_range_high', fico_range_high)\n",
    "\trevol_bal = st.sidebar.slider('revol_bal', 1, 1000, 2)\n",
    "\tst.write('input revol_bal', revol_bal*1000)\n",
    "\topen_acc = st.sidebar.slider('open_acc', 1, 50, 2)\n",
    "\tst.write('input open_acc', open_acc)\n",
    "\tresult =\"\"\n",
    "\t# assessment button\n",
    "\tif st.button(\"Predict\"):\n",
    "\t\tassessment = prediction(int_rate, emp_length, annual_inc, delinq_2yrs, fico_range_high,revol_bal, open_acc)\n",
    "\t\tst.success('**System assessment says:** {}'.format(assessment))\n",
    "\n",
    "\t# if st.button(\"Reset\"):\n",
    "\t# \tpyautogui.hotkey(\"ctrl\",\"F5\")\n",
    "\n",
    "\t# st.balloons()\n",
    "\tst.success(\"App is working!!\") # other tags include st.error, st.warning, st.help etc.\n",
    "\n",
    "if __name__ == '__main__':\n",
    "\tmain()\n"
   ]
  },
  {
   "cell_type": "code",
   "execution_count": 13,
   "metadata": {
    "colab": {
     "base_uri": "https://localhost:8080/"
    },
    "id": "LEkL4tECPtf_",
    "outputId": "c5800600-baf0-4bc8-a8f5-eff36ff0a655"
   },
   "outputs": [
    {
     "name": "stdout",
     "output_type": "stream",
     "text": [
      "app3_v2.py  model.pkl\t\t\t  ngrok-stable-linux-amd64.zip.1\n",
      "drive\t    ngrok\t\t\t  sample_data\n",
      "gdrive\t    ngrok-stable-linux-amd64.zip\n"
     ]
    }
   ],
   "source": [
    "!ls"
   ]
  },
  {
   "cell_type": "code",
   "execution_count": 14,
   "metadata": {
    "colab": {
     "base_uri": "https://localhost:8080/"
    },
    "id": "aaPZ7hARVefl",
    "outputId": "b790dc6a-0492-487c-e61c-b851de541a9e"
   },
   "outputs": [
    {
     "name": "stdout",
     "output_type": "stream",
     "text": [
      "--2021-12-07 13:07:05--  https://bin.equinox.io/c/4VmDzA7iaHb/ngrok-stable-linux-amd64.zip\n",
      "Resolving bin.equinox.io (bin.equinox.io)... 54.237.133.81, 54.161.241.46, 18.205.222.128, ...\n",
      "Connecting to bin.equinox.io (bin.equinox.io)|54.237.133.81|:443... connected.\n",
      "HTTP request sent, awaiting response... 200 OK\n",
      "Length: 13832437 (13M) [application/octet-stream]\n",
      "Saving to: ‘ngrok-stable-linux-amd64.zip.2’\n",
      "\n",
      "ngrok-stable-linux- 100%[===================>]  13.19M  6.06MB/s    in 2.2s    \n",
      "\n",
      "2021-12-07 13:07:08 (6.06 MB/s) - ‘ngrok-stable-linux-amd64.zip.2’ saved [13832437/13832437]\n",
      "\n"
     ]
    }
   ],
   "source": [
    "!wget https://bin.equinox.io/c/4VmDzA7iaHb/ngrok-stable-linux-amd64.zip"
   ]
  },
  {
   "cell_type": "code",
   "execution_count": 15,
   "metadata": {
    "colab": {
     "base_uri": "https://localhost:8080/"
    },
    "id": "sla3v3o1VeVd",
    "outputId": "4631d085-18df-4028-e861-0485c38dae23"
   },
   "outputs": [
    {
     "name": "stdout",
     "output_type": "stream",
     "text": [
      "Archive:  ngrok-stable-linux-amd64.zip\n",
      "replace ngrok? [y]es, [n]o, [A]ll, [N]one, [r]ename: n\n"
     ]
    }
   ],
   "source": [
    "!unzip ngrok-stable-linux-amd64.zip"
   ]
  },
  {
   "cell_type": "code",
   "execution_count": 16,
   "metadata": {
    "id": "KBV-UJfeVvQl"
   },
   "outputs": [],
   "source": [
    "get_ipython().system_raw('./ngrok http 8501 &')"
   ]
  },
  {
   "cell_type": "code",
   "execution_count": 17,
   "metadata": {
    "id": "4_-rJtpcPtcS"
   },
   "outputs": [],
   "source": [
    "# run the app\n",
    "!streamlit run app3_v2.py &>/dev/null&"
   ]
  },
  {
   "cell_type": "code",
   "execution_count": 18,
   "metadata": {
    "colab": {
     "base_uri": "https://localhost:8080/"
    },
    "id": "1audXTOWVvEq",
    "outputId": "4741dab4-f81b-444b-d3b0-fb38c7a49105"
   },
   "outputs": [
    {
     "name": "stdout",
     "output_type": "stream",
     "text": [
      " Access the app at URL: https://bbcf-34-80-87-23.ngrok.io\n"
     ]
    }
   ],
   "source": [
    "!curl -s http://localhost:4040/api/tunnels | python3 -c \\\n",
    "    'import sys, json; print(\" Access the app at URL: \" +json.load(sys.stdin)[\"tunnels\"][0][\"public_url\"])'"
   ]
  },
  {
   "cell_type": "code",
   "execution_count": 19,
   "metadata": {
    "colab": {
     "base_uri": "https://localhost:8080/"
    },
    "id": "fhyZRx9Qvb3q",
    "outputId": "0771b833-d820-4163-f1fa-4ffe0845d71f"
   },
   "outputs": [
    {
     "name": "stdout",
     "output_type": "stream",
     "text": [
      "553\n"
     ]
    }
   ],
   "source": [
    "# what is the process id\n",
    "!pgrep streamlit"
   ]
  },
  {
   "cell_type": "code",
   "execution_count": 22,
   "metadata": {
    "id": "Tsv-e5h-XOQl"
   },
   "outputs": [],
   "source": [
    "!kill 553 # change with current process id"
   ]
  },
  {
   "cell_type": "code",
   "execution_count": 21,
   "metadata": {
    "id": "Cmxyfvfe2GMa"
   },
   "outputs": [],
   "source": [
    "# ngrok.kill()"
   ]
  }
 ],
 "metadata": {
  "colab": {
   "authorship_tag": "ABX9TyNKONwSuMoNaUH91k+fm7YX",
   "collapsed_sections": [],
   "include_colab_link": true,
   "mount_file_id": "1JIHmNCxa_cEZLpn6BRrK_ZEZELy045NJ",
   "name": "Streamlit-colab_app3_v2.ipynb",
   "provenance": []
  },
  "kernelspec": {
   "display_name": "Python 3 (ipykernel)",
   "language": "python",
   "name": "python3"
  },
  "language_info": {
   "codemirror_mode": {
    "name": "ipython",
    "version": 3
   },
   "file_extension": ".py",
   "mimetype": "text/x-python",
   "name": "python",
   "nbconvert_exporter": "python",
   "pygments_lexer": "ipython3",
   "version": "3.8.10"
  }
 },
 "nbformat": 4,
 "nbformat_minor": 4
}
